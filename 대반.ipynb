{
 "cells": [
  {
   "cell_type": "markdown",
   "metadata": {},
   "source": [
    "# 이벤트 순위 실시간 체크 및 진단"
   ]
  },
  {
   "cell_type": "code",
   "execution_count": 4,
   "metadata": {},
   "outputs": [],
   "source": [
    "from selenium import webdriver\n",
    "import numpy as np\n",
    "import pandas as pd\n",
    "import time\n",
    "from selenium.webdriver.common.by import By\n",
    "from datetime import datetime\n",
    "from dateutil import parser\n",
    "import math\n",
    "from datetime import datetime\n",
    "import re\n",
    "\n",
    "\n",
    "options = webdriver.ChromeOptions()\n",
    "options.add_argument(\"headless\") # 창을 열지 않고 실행"
   ]
  },
  {
   "cell_type": "markdown",
   "metadata": {},
   "source": [
    "챌린지 라이브"
   ]
  },
  {
   "cell_type": "code",
   "execution_count": 5,
   "metadata": {},
   "outputs": [],
   "source": [
    "rank = 500 # 들고 싶은 목표 순위\n",
    "link = f\"https://bestdori.com/tool/eventtracker/jp/t{rank}/247/What-Colour-Lies-Beyond-These-Rainclouds\" # 베도리 해당 이벤트 링크\n",
    "\n",
    "scores = np.array([9315, 8565, 9165, 8535]) # 여기에 기존 데이터를 입력\n",
    "score_one = np.mean(scores) # 평균 데이터\n",
    "current_time = datetime.now()\n",
    "\n",
    "score_now = 1211452 # 현재 내 점수"
   ]
  },
  {
   "cell_type": "code",
   "execution_count": 6,
   "metadata": {},
   "outputs": [
    {
     "name": "stdout",
     "output_type": "stream",
     "text": [
      "\n",
      "    ##########################################\n",
      "    ### Event Diagnosis (실시간 IN500)\n",
      "    ##########################################\n",
      "\n",
      "    Your score : 1211452\n",
      "    현재 시간 : 2024-01-27 15:58:13.999006\n",
      "    IN_500 cutline (now) : 1264875\n",
      "    TOGO : 53423\n",
      "\n",
      "    한판당 점수 : 8895.0\n",
      "    Required play time for now : 7번\n",
      "    필요한 불캔 수 for now : 21개\n",
      "\n",
      "    \n",
      "    ##########################################\n",
      "    ### Event Diagnosis (예측 IN500)\n",
      "    ##########################################       \n",
      "    \n",
      "    IN_500 cutline (predict) : 2092579\n",
      "    TOGO : 881127\n",
      "\n",
      "    한판당 점수 : 8895.0\n",
      "    Required play time for predicted : 100번\n",
      "    필요한 불캔 수 for predicted : 300개\n",
      "\n",
      "    하루에 35불의 자연불이 생긴다고 가정하자.\n",
      "    남은 날짜 : 2일\n",
      "    보충 가능한 자연불 개수 : 최소 70개\n",
      "    써야 하는 불캔 : 230개\n",
      "\n",
      "    \n"
     ]
    }
   ],
   "source": [
    "driver = webdriver.Chrome(options=options)\n",
    "time.sleep(0.1)\n",
    "driver.get(link)\n",
    "time.sleep(0.1)\n",
    "driver.find_elements(By.XPATH, '//*[@id=\"app\"]/div[3]/div[2]/div[2]/div[3]/div[1]/div[2]/div/div/div/a[5]')[0].click()\n",
    "driver.find_elements(By.XPATH, '//*[@id=\"app\"]/div[3]/div[2]/div[3]/a')[0].click()\n",
    "time.sleep(3)\n",
    "\n",
    "cut = int(driver.find_element(By.XPATH, '//*[@id=\"app\"]/div[4]/div[2]/div[1]/div[5]/div[1]/table/tbody/tr[2]/td[2]').text.replace(',',''))\n",
    "try : \n",
    "    predicted_cut = int(driver.find_element(By.XPATH, '//*[@id=\"app\"]/div[4]/div[2]/div[1]/div[5]/div[1]/table/tbody/tr[3]/td[2]').text.replace(',',''))\n",
    "except : \n",
    "    if rank == 500 : predicted_cut = np.mean([1993925, 3942895] )\n",
    "    elif rank == 1000 : predicted_cut = np.mean([3185010, 1622295])\n",
    "    else : predicted_cut = 10**10\n",
    "\n",
    "endstr = driver.find_element(By.XPATH, '//*[@id=\"app\"]/div[4]/div[2]/div[1]/div[5]/div[1]/table/tbody/tr[1]/td[2]/div[2]').text\n",
    "til = int(re.findall(r'\\d+', endstr)[0]) # 남은 날짜\n",
    "\n",
    "print(\n",
    "    f'''\n",
    "    ##########################################\n",
    "    ### Event Diagnosis (실시간 IN{rank})\n",
    "    ##########################################\n",
    "\n",
    "    Your score : {score_now}\n",
    "    현재 시간 : {current_time}\n",
    "    IN_{rank} cutline (now) : {cut}\n",
    "    TOGO : {cut - score_now}\n",
    "\n",
    "    한판당 점수 : {score_one}\n",
    "    Required play time for now : {math.ceil((cut - score_now)/score_one)}번\n",
    "    필요한 불캔 수 for now : {np.round(math.ceil((cut - score_now)/score_one)*3, 0)}개\n",
    "\n",
    "    \n",
    "    ##########################################\n",
    "    ### Event Diagnosis (예측 IN{rank})\n",
    "    ##########################################       \n",
    "    \n",
    "    IN_{rank} cutline (predict) : {predicted_cut}\n",
    "    TOGO : {predicted_cut - score_now}\n",
    "\n",
    "    한판당 점수 : {score_one}\n",
    "    Required play time for predicted : {math.ceil((predicted_cut - score_now)/score_one)}번\n",
    "    필요한 불캔 수 for predicted : {np.round(math.ceil((predicted_cut - score_now)/score_one)*3, 0)}개\n",
    "\n",
    "    하루에 35불의 자연불이 생긴다고 가정하자.\n",
    "    남은 날짜 : {til}일\n",
    "    보충 가능한 자연불 개수 : 최소 {35 * til}개\n",
    "    써야 하는 불캔 : {np.round(math.ceil((predicted_cut - score_now)/score_one)*3, 0) - 35 * til}개\n",
    "\n",
    "    ''')\n",
    "\n",
    "\n",
    "driver.quit()"
   ]
  },
  {
   "cell_type": "code",
   "execution_count": null,
   "metadata": {},
   "outputs": [],
   "source": []
  }
 ],
 "metadata": {
  "kernelspec": {
   "display_name": "base",
   "language": "python",
   "name": "python3"
  },
  "language_info": {
   "codemirror_mode": {
    "name": "ipython",
    "version": 3
   },
   "file_extension": ".py",
   "mimetype": "text/x-python",
   "name": "python",
   "nbconvert_exporter": "python",
   "pygments_lexer": "ipython3",
   "version": "3.9.13"
  }
 },
 "nbformat": 4,
 "nbformat_minor": 2
}
